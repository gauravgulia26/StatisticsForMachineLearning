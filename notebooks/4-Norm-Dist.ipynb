{
 "cells": [
  {
   "cell_type": "code",
   "execution_count": 1,
   "id": "c45232a4",
   "metadata": {},
   "outputs": [],
   "source": [
    "import seaborn as sns\n",
    "import numpy as np\n",
    "import matplotlib.pyplot as plt\n",
    "import pandas as pd"
   ]
  },
  {
   "cell_type": "code",
   "execution_count": 5,
   "id": "133842fa",
   "metadata": {},
   "outputs": [],
   "source": [
    "df = sns.load_dataset(\"diamonds\")"
   ]
  },
  {
   "cell_type": "code",
   "execution_count": 6,
   "id": "d437156f",
   "metadata": {},
   "outputs": [
    {
     "data": {
      "text/html": [
       "<div>\n",
       "<style scoped>\n",
       "    .dataframe tbody tr th:only-of-type {\n",
       "        vertical-align: middle;\n",
       "    }\n",
       "\n",
       "    .dataframe tbody tr th {\n",
       "        vertical-align: top;\n",
       "    }\n",
       "\n",
       "    .dataframe thead th {\n",
       "        text-align: right;\n",
       "    }\n",
       "</style>\n",
       "<table border=\"1\" class=\"dataframe\">\n",
       "  <thead>\n",
       "    <tr style=\"text-align: right;\">\n",
       "      <th></th>\n",
       "      <th>carat</th>\n",
       "      <th>cut</th>\n",
       "      <th>color</th>\n",
       "      <th>clarity</th>\n",
       "      <th>depth</th>\n",
       "      <th>table</th>\n",
       "      <th>price</th>\n",
       "      <th>x</th>\n",
       "      <th>y</th>\n",
       "      <th>z</th>\n",
       "    </tr>\n",
       "  </thead>\n",
       "  <tbody>\n",
       "    <tr>\n",
       "      <th>0</th>\n",
       "      <td>0.23</td>\n",
       "      <td>Ideal</td>\n",
       "      <td>E</td>\n",
       "      <td>SI2</td>\n",
       "      <td>61.5</td>\n",
       "      <td>55.0</td>\n",
       "      <td>326</td>\n",
       "      <td>3.95</td>\n",
       "      <td>3.98</td>\n",
       "      <td>2.43</td>\n",
       "    </tr>\n",
       "    <tr>\n",
       "      <th>1</th>\n",
       "      <td>0.21</td>\n",
       "      <td>Premium</td>\n",
       "      <td>E</td>\n",
       "      <td>SI1</td>\n",
       "      <td>59.8</td>\n",
       "      <td>61.0</td>\n",
       "      <td>326</td>\n",
       "      <td>3.89</td>\n",
       "      <td>3.84</td>\n",
       "      <td>2.31</td>\n",
       "    </tr>\n",
       "    <tr>\n",
       "      <th>2</th>\n",
       "      <td>0.23</td>\n",
       "      <td>Good</td>\n",
       "      <td>E</td>\n",
       "      <td>VS1</td>\n",
       "      <td>56.9</td>\n",
       "      <td>65.0</td>\n",
       "      <td>327</td>\n",
       "      <td>4.05</td>\n",
       "      <td>4.07</td>\n",
       "      <td>2.31</td>\n",
       "    </tr>\n",
       "    <tr>\n",
       "      <th>3</th>\n",
       "      <td>0.29</td>\n",
       "      <td>Premium</td>\n",
       "      <td>I</td>\n",
       "      <td>VS2</td>\n",
       "      <td>62.4</td>\n",
       "      <td>58.0</td>\n",
       "      <td>334</td>\n",
       "      <td>4.20</td>\n",
       "      <td>4.23</td>\n",
       "      <td>2.63</td>\n",
       "    </tr>\n",
       "    <tr>\n",
       "      <th>4</th>\n",
       "      <td>0.31</td>\n",
       "      <td>Good</td>\n",
       "      <td>J</td>\n",
       "      <td>SI2</td>\n",
       "      <td>63.3</td>\n",
       "      <td>58.0</td>\n",
       "      <td>335</td>\n",
       "      <td>4.34</td>\n",
       "      <td>4.35</td>\n",
       "      <td>2.75</td>\n",
       "    </tr>\n",
       "  </tbody>\n",
       "</table>\n",
       "</div>"
      ],
      "text/plain": [
       "   carat      cut color clarity  depth  table  price     x     y     z\n",
       "0   0.23    Ideal     E     SI2   61.5   55.0    326  3.95  3.98  2.43\n",
       "1   0.21  Premium     E     SI1   59.8   61.0    326  3.89  3.84  2.31\n",
       "2   0.23     Good     E     VS1   56.9   65.0    327  4.05  4.07  2.31\n",
       "3   0.29  Premium     I     VS2   62.4   58.0    334  4.20  4.23  2.63\n",
       "4   0.31     Good     J     SI2   63.3   58.0    335  4.34  4.35  2.75"
      ]
     },
     "execution_count": 6,
     "metadata": {},
     "output_type": "execute_result"
    }
   ],
   "source": [
    "df.head()"
   ]
  },
  {
   "cell_type": "code",
   "execution_count": 7,
   "id": "45e7d64b",
   "metadata": {},
   "outputs": [],
   "source": [
    "idx = np.linspace(1, 100, df.shape[0])"
   ]
  },
  {
   "cell_type": "code",
   "execution_count": 48,
   "id": "5cc2b0b8",
   "metadata": {},
   "outputs": [],
   "source": [
    "mat_a = np.linspace(1, 10, 100).reshape(25, 4)"
   ]
  },
  {
   "cell_type": "code",
   "execution_count": 52,
   "id": "7fa8176d",
   "metadata": {},
   "outputs": [],
   "source": [
    "mat_b = np.linspace(10, 20, 100).reshape(4, 25)"
   ]
  },
  {
   "cell_type": "code",
   "execution_count": 57,
   "id": "1eaddaa1",
   "metadata": {},
   "outputs": [],
   "source": [
    "res = np.dot(mat_a, mat_b)"
   ]
  },
  {
   "cell_type": "code",
   "execution_count": 70,
   "id": "bbfa0c79",
   "metadata": {},
   "outputs": [],
   "source": [
    "val = res[0].tolist()\n",
    "idx = np.linspace(1, 10, len(res[0]))"
   ]
  },
  {
   "cell_type": "code",
   "execution_count": 74,
   "id": "c304e420",
   "metadata": {},
   "outputs": [],
   "source": [
    "def Get_Quadratic(x: int, y: int):\n",
    "    return x**2 + y**2 + 12"
   ]
  },
  {
   "cell_type": "code",
   "execution_count": 2,
   "id": "b79c0fa4",
   "metadata": {},
   "outputs": [],
   "source": [
    "import numpy as np\n",
    "\n",
    "\n",
    "def Get_Quadratic(a, b, c=0):\n",
    "    # ensure NumPy arrays\n",
    "    a = np.asarray(a)\n",
    "    b = np.asarray(b)\n",
    "    c = np.asarray(c)\n",
    "\n",
    "    # define x over a range, for example 0–9\n",
    "    x = np.arange(10)\n",
    "\n",
    "    # compute for all inputs simultaneously\n",
    "    return a[:, None] * x**2 + b[:, None] * x + c"
   ]
  },
  {
   "cell_type": "code",
   "execution_count": 3,
   "id": "c62ffae7",
   "metadata": {},
   "outputs": [],
   "source": [
    "a_vals = np.random.randint(1, 11, 10000000, dtype=\"int8\")\n",
    "b_vals = np.random.randint(10, 16, 10000000, dtype=\"int8\")\n",
    "quad = Get_Quadratic(a_vals, b_vals)"
   ]
  },
  {
   "cell_type": "code",
   "execution_count": 12,
   "id": "1b4efb11",
   "metadata": {},
   "outputs": [],
   "source": [
    "def get_dist(x: np.array, p: np.array):\n",
    "    return np.sqrt(np.sum((x - p) ** 2, axis=1))"
   ]
  },
  {
   "cell_type": "code",
   "execution_count": 14,
   "id": "b291f028",
   "metadata": {},
   "outputs": [],
   "source": [
    "dist = get_dist(quad, np.array([12, 45, 23, 34, 67, 78, 10, 11, 32, 56]))"
   ]
  },
  {
   "cell_type": "code",
   "execution_count": 17,
   "id": "43d89cb8",
   "metadata": {},
   "outputs": [
    {
     "data": {
      "text/plain": [
       "np.float64(215.13948963405113)"
      ]
     },
     "execution_count": 17,
     "metadata": {},
     "output_type": "execute_result"
    }
   ],
   "source": [
    "dist[dist.argmin()]"
   ]
  },
  {
   "cell_type": "code",
   "execution_count": 24,
   "id": "24b241ab",
   "metadata": {},
   "outputs": [],
   "source": [
    "x = np.arange(5)\n",
    "y = np.arange(3)\n",
    "z = x + y[:, None]"
   ]
  },
  {
   "cell_type": "code",
   "execution_count": 27,
   "id": "d95edb63",
   "metadata": {},
   "outputs": [],
   "source": [
    "# (1000000, 3)"
   ]
  },
  {
   "cell_type": "code",
   "execution_count": 28,
   "id": "d99b51a5",
   "metadata": {},
   "outputs": [],
   "source": [
    "x = np.random.randint(1, 2000, (1000000 * 3)).reshape((1000000, 3))"
   ]
  },
  {
   "cell_type": "code",
   "execution_count": 33,
   "id": "129cb470",
   "metadata": {},
   "outputs": [],
   "source": [
    "origin = np.zeros(3)"
   ]
  },
  {
   "cell_type": "code",
   "execution_count": 53,
   "id": "148055cb",
   "metadata": {},
   "outputs": [],
   "source": [
    "dst = np.sqrt(np.sum(np.square(np.subtract(x, origin)), axis=1))"
   ]
  },
  {
   "cell_type": "code",
   "execution_count": null,
   "id": "7c5196c4",
   "metadata": {},
   "outputs": [],
   "source": []
  },
  {
   "cell_type": "code",
   "execution_count": 58,
   "id": "92fda2a9",
   "metadata": {},
   "outputs": [],
   "source": [
    "from numba import jit"
   ]
  },
  {
   "cell_type": "code",
   "execution_count": null,
   "id": "90856570",
   "metadata": {},
   "outputs": [],
   "source": [
    "@jit\n",
    "def get_distance(x: np.array, origin: np.array):\n",
    "    return np.sqrt(np.sum(np.square(np.subtract(x, origin)), axis=1))"
   ]
  },
  {
   "cell_type": "code",
   "execution_count": 74,
   "id": "e00b0a6b",
   "metadata": {},
   "outputs": [],
   "source": [
    "x = np.random.randint(1, 2000, (1000000 * 3)).reshape((1000000, 3))"
   ]
  },
  {
   "cell_type": "code",
   "execution_count": 75,
   "id": "c45d15b0",
   "metadata": {},
   "outputs": [],
   "source": [
    "dst = get_distance(x=x, origin=origin)"
   ]
  },
  {
   "cell_type": "code",
   "execution_count": 76,
   "id": "464f39f7",
   "metadata": {},
   "outputs": [],
   "source": [
    "x = np.random.randint(2000, 3000, (10_00_000 * 3)).reshape((1000000, 3))"
   ]
  },
  {
   "cell_type": "code",
   "execution_count": 77,
   "id": "780dd39f",
   "metadata": {},
   "outputs": [],
   "source": [
    "dst = get_distance(x=x, origin=origin)"
   ]
  },
  {
   "cell_type": "code",
   "execution_count": 67,
   "id": "b3af91df",
   "metadata": {},
   "outputs": [],
   "source": [
    "dst = get_distance(x=x, origin=origin)"
   ]
  },
  {
   "cell_type": "code",
   "execution_count": 68,
   "id": "fb1760c3",
   "metadata": {},
   "outputs": [
    {
     "data": {
      "text/plain": [
       "array([3867.23221439, 4134.68330105, 3955.89661139, ..., 4610.60321433,\n",
       "       4595.75053718, 4144.98673098], shape=(1000000,))"
      ]
     },
     "execution_count": 68,
     "metadata": {},
     "output_type": "execute_result"
    }
   ],
   "source": [
    "dst"
   ]
  },
  {
   "cell_type": "code",
   "execution_count": null,
   "id": "3fc4ce31",
   "metadata": {},
   "outputs": [],
   "source": []
  },
  {
   "cell_type": "code",
   "execution_count": null,
   "id": "49882fff",
   "metadata": {},
   "outputs": [],
   "source": []
  },
  {
   "cell_type": "code",
   "execution_count": null,
   "id": "65354b2e",
   "metadata": {},
   "outputs": [],
   "source": []
  },
  {
   "cell_type": "code",
   "execution_count": null,
   "id": "8fb6773d",
   "metadata": {},
   "outputs": [],
   "source": []
  }
 ],
 "metadata": {
  "kernelspec": {
   "display_name": "SSC",
   "language": "python",
   "name": "python3"
  },
  "language_info": {
   "codemirror_mode": {
    "name": "ipython",
    "version": 3
   },
   "file_extension": ".py",
   "mimetype": "text/x-python",
   "name": "python",
   "nbconvert_exporter": "python",
   "pygments_lexer": "ipython3",
   "version": "3.10.18"
  }
 },
 "nbformat": 4,
 "nbformat_minor": 5
}
